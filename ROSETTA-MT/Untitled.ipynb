{
 "cells": [
  {
   "cell_type": "code",
   "execution_count": 1,
   "metadata": {},
   "outputs": [],
   "source": [
    "# import torch\n",
    "# torch.cuda.is_available()"
   ]
  },
  {
   "cell_type": "code",
   "execution_count": 1,
   "metadata": {
    "scrolled": false
   },
   "outputs": [],
   "source": [
    "import rosetta\n",
    "from collections import namedtuple\n",
    "\n",
    "import torch\n",
    "from rosetta import RecursiveNN\n",
    "import torch.utils.data as data_utils\n",
    "import numpy as np\n",
    "import pandas as pd\n",
    "from sklearn.preprocessing import MinMaxScaler, StandardScaler\n",
    "import joblib\n",
    "bUseConv = False"
   ]
  },
  {
   "cell_type": "code",
   "execution_count": 2,
   "metadata": {},
   "outputs": [],
   "source": [
    "rs = rosetta.Rosetta(mode = 'no_extract', bSave = 'T', bUseConv = bUseConv)"
   ]
  },
  {
   "cell_type": "code",
   "execution_count": 3,
   "metadata": {
    "scrolled": true
   },
   "outputs": [
    {
     "name": "stdout",
     "output_type": "stream",
     "text": [
      "Loading saved features\n",
      "Running on cpu\n",
      "Total number of parameters in Model is: 33785\n",
      "RecursiveNN_Linear(\n",
      "  (dropout): Dropout(p=0.2, inplace=False)\n",
      "  (linear1a): Linear(in_features=2048, out_features=16, bias=True)\n",
      "  (linear2a): Linear(in_features=16, out_features=16, bias=True)\n",
      "  (linear3a): Linear(in_features=16, out_features=8, bias=True)\n",
      "  (linear1b): Linear(in_features=18, out_features=16, bias=True)\n",
      "  (linear2b): Linear(in_features=16, out_features=16, bias=True)\n",
      "  (linear3b): Linear(in_features=16, out_features=1, bias=True)\n",
      ")\n",
      "Running model\n"
     ]
    },
    {
     "name": "stderr",
     "output_type": "stream",
     "text": [
      "C:\\Users\\Alvaro\\Anaconda3\\lib\\site-packages\\torch\\serialization.py:292: UserWarning: Couldn't retrieve source code for container of type RecursiveNN_Linear. It won't be checked for correctness upon loading.\n",
      "  \"type \" + obj.__name__ + \". It won't be checked \"\n",
      "C:\\Users\\Alvaro\\Anaconda3\\lib\\site-packages\\torch\\serialization.py:292: UserWarning: Couldn't retrieve source code for container of type Dropout. It won't be checked for correctness upon loading.\n",
      "  \"type \" + obj.__name__ + \". It won't be checked \"\n",
      "C:\\Users\\Alvaro\\Anaconda3\\lib\\site-packages\\torch\\serialization.py:292: UserWarning: Couldn't retrieve source code for container of type Linear. It won't be checked for correctness upon loading.\n",
      "  \"type \" + obj.__name__ + \". It won't be checked \"\n"
     ]
    }
   ],
   "source": [
    "rs.run()\n",
    "# I just increased latent space. 16 gave a p of 17.7"
   ]
  },
  {
   "cell_type": "code",
   "execution_count": 4,
   "metadata": {},
   "outputs": [],
   "source": [
    "# torch.cuda.set_device(0)"
   ]
  },
  {
   "cell_type": "code",
   "execution_count": 6,
   "metadata": {},
   "outputs": [
    {
     "data": {
      "text/plain": [
       "-0.020499738786163044"
      ]
     },
     "execution_count": 6,
     "metadata": {},
     "output_type": "execute_result"
    }
   ],
   "source": [
    "model = torch.load('model.pt')\n",
    "\n",
    "trainsc= np.load(\"saved_features/train_scores.npy\", allow_pickle=True)\n",
    "devnlp = np.load(\"saved_features/dev_nlp.npy\", allow_pickle=True)\n",
    "\n",
    "if bUseConv:\n",
    "    devlsr = np.load(\"saved_features/dev_lsr.npy\", allow_pickle=True)\n",
    "else:\n",
    "    devlsr = np.load(\"saved_features/dev_lsr.npy\", allow_pickle=True).reshape(-1,2048)\n",
    "    \n",
    "devsc= np.load(\"saved_features/dev_scores.npy\", allow_pickle=True)\n",
    "dev = namedtuple(\"res\", ['lsr', 'feats', 'scores'])(lsr=devlsr, feats=devnlp, scores=devsc)\n",
    "dev_ = data_utils.TensorDataset(*[torch.tensor(getattr(dev, i)).float() for i in ['lsr', 'feats', 'scores']])\n",
    "\n",
    "with torch.no_grad():\n",
    "    preds = model.forward(*dev_.tensors[:2]).cpu().numpy()\n",
    "scaler = joblib.load('scaler.joblib')\n",
    "\n",
    "pd.DataFrame({'real':devsc, 'preds':preds}).corr()['preds']['real']"
   ]
  },
  {
   "cell_type": "code",
   "execution_count": 11,
   "metadata": {},
   "outputs": [],
   "source": [
    "trainnlp = np.load(\"saved_features/train_nlp.npy\", allow_pickle = True)"
   ]
  },
  {
   "cell_type": "code",
   "execution_count": 12,
   "metadata": {},
   "outputs": [
    {
     "data": {
      "text/plain": [
       "30.0"
      ]
     },
     "execution_count": 12,
     "metadata": {},
     "output_type": "execute_result"
    }
   ],
   "source": [
    "np.max(trainnlp)"
   ]
  },
  {
   "cell_type": "code",
   "execution_count": 12,
   "metadata": {},
   "outputs": [
    {
     "data": {
      "image/png": "[encoded data removed]",
      "text/plain": [
       "<Figure size 432x288 with 1 Axes>"
      ]
     },
     "metadata": {
      "needs_background": "light"
     },
     "output_type": "display_data"
    }
   ],
   "source": [
    "import matplotlib.pyplot as plt\n",
    "%matplotlib inline\n",
    "n, bins, patches = plt.hist(devsc, 50, density=True, facecolor='g', alpha=0.75, range=(-2,2))\n",
    "n, bins, patches = plt.hist(preds, 50, density=True, facecolor='r', alpha=0.75, range=(-2,2))\n",
    "\n",
    "plt.show()"
   ]
  },
  {
   "cell_type": "code",
   "execution_count": 13,
   "metadata": {},
   "outputs": [
    {
     "data": {
      "image/png": "[encoded data removed]",
      "text/plain": [
       "<Figure size 432x288 with 1 Axes>"
      ]
     },
     "metadata": {
      "needs_background": "light"
     },
     "output_type": "display_data"
    }
   ],
   "source": [
    "nlp = np.load(\"saved_features/train_nlp.npy\", allow_pickle=True)\n",
    "lsr = np.load(\"saved_features/train_lsr.npy\", allow_pickle=True).reshape(-1,2048)\n",
    "scores = np.load(\"saved_features/train_scores.npy\", allow_pickle=True)\n",
    "scores = scores.reshape(-1,1)\n",
    "\n",
    "idxs = np.nonzero((scores.ravel()<1.6)&(scores.ravel()>-2.5)) # Get indices to keep\n",
    "filtered_lsr = lsr[idxs]\n",
    "filtered_nlp = nlp[idxs]\n",
    "filtered_scores = scores[idxs]\n",
    "\n",
    "scaler = MinMaxScaler((-1,1))\n",
    "scaler.fit(filtered_scores)\n",
    "scaled_scores = scaler.transform(filtered_scores)\n",
    "\n",
    "n, bins, patches = plt.hist(scaled_scores, 15, density=True, range=(-1, 1), facecolor='g', alpha=0.75)\n",
    "\n",
    "prob_dist = np.ones(len(n))-n*0.45\n",
    "prob_dist = prob_dist**15/sum(prob_dist)\n",
    "\n",
    "# dump(self.scaler, 'scaler.joblib')\n",
    "\n",
    "probs = np.ones(len(scaled_scores))\n",
    "scaled_scores = scaled_scores.ravel()\n",
    "for idx in range(len(bins)-1):\n",
    "    probs[(scaled_scores>bins[idx])&(scaled_scores<bins[idx+1])] = 1*prob_dist[idx]\n",
    "scaled_probs = probs/sum(probs)\n",
    "\n",
    "idxs = np.random.choice(list(range(len(scaled_scores))), p=scaled_probs, size=6000)\n",
    "\n",
    "augmented_lsr = np.zeros((len(idxs), lsr.shape[1]))\n",
    "augemented_nlp = np.zeros((len(idxs), nlp.shape[1]))\n",
    "augmented_scores = np.zeros((len(idxs), scores.shape[1]))\n",
    "lsr_std = filtered_lsr.std(axis=0)\n",
    "nlp_std = filtered_nlp.std(axis=0)\n",
    "scores_std = filtered_scores.std(axis=0)\n",
    "for i, value in enumerate(idxs):\n",
    "    augmented_lsr[i,:] = filtered_lsr[value, :]+ np.random.normal(0, lsr_std*0.05, lsr.shape[1])\n",
    "    augemented_nlp[i,:] = filtered_nlp[value, :]+ np.random.normal(0, nlp_std*0.05, nlp.shape[1])\n",
    "    augmented_scores[i,:] = filtered_scores[value, :]+ np.random.normal(0, scores_std*0.05, scores.shape[1])\n",
    "\n",
    "final_lsr = np.concatenate([filtered_lsr, augmented_lsr],axis=0)\n",
    "final_nlp = np.concatenate([filtered_nlp, augemented_nlp],axis=0)\n",
    "final_scores = np.concatenate([filtered_scores, augmented_scores],axis=0)"
   ]
  },
  {
   "cell_type": "code",
   "execution_count": 14,
   "metadata": {},
   "outputs": [
    {
     "data": {
      "image/png": "[encoded data removed]",
      "text/plain": [
       "<Figure size 432x288 with 1 Axes>"
      ]
     },
     "metadata": {
      "needs_background": "light"
     },
     "output_type": "display_data"
    }
   ],
   "source": [
    "n, bins, patches = plt.hist(scores, 15, density=True, range=(-4, 2), facecolor='r', alpha=0.75)\n",
    "n, bins, patches = plt.hist(final_scores, 15, density=True,range=(-4, 2), facecolor='b', alpha=0.75)"
   ]
  },
  {
   "cell_type": "code",
   "execution_count": 9,
   "metadata": {},
   "outputs": [],
   "source": [
    "trainlsr = np.load(\"saved_features/train_lsr.npy\", allow_pickle=True)\n",
    "devlsr = np.load(\"saved_features/dev_lsr.npy\",  allow_pickle=True)"
   ]
  },
  {
   "cell_type": "code",
   "execution_count": 13,
   "metadata": {},
   "outputs": [
    {
     "data": {
      "text/plain": [
       "(1000, 2, 1024)"
      ]
     },
     "execution_count": 13,
     "metadata": {},
     "output_type": "execute_result"
    }
   ],
   "source": [
    "np.shape(devlsr)"
   ]
  },
  {
   "cell_type": "code",
   "execution_count": 17,
   "metadata": {},
   "outputs": [
    {
     "data": {
      "text/plain": [
       "(1000, 2, 1024)"
      ]
     },
     "execution_count": 17,
     "metadata": {},
     "output_type": "execute_result"
    }
   ],
   "source": [
    "\n",
    "\n",
    "norm_dev = (devlsr - min_train)/(max_train-min_train)\n",
    "\n",
    "np.shape(norm_train)"
   ]
  },
  {
   "cell_type": "code",
   "execution_count": 18,
   "metadata": {},
   "outputs": [
    {
     "data": {
      "text/plain": [
       "array([[[0.19116205, 0.20314554, 0.1445885 , ..., 0.74713148,\n",
       "         0.58708667, 0.32719933],\n",
       "        [0.29194122, 0.2582789 , 0.08421795, ..., 0.86479902,\n",
       "         0.52297657, 0.21665966]],\n",
       "\n",
       "       [[0.18115005, 0.00864817, 0.07826014, ..., 0.44796953,\n",
       "         0.37065204, 0.15314818],\n",
       "        [0.24021171, 0.02388223, 0.12997836, ..., 0.11626517,\n",
       "         0.35544945, 0.00771557]],\n",
       "\n",
       "       [[0.13897227, 0.00835522, 0.15297333, ..., 0.03808996,\n",
       "         0.14641249, 0.47624971],\n",
       "        [0.38960755, 0.02414367, 0.11478988, ..., 0.01763333,\n",
       "         0.34543842, 0.35294591]],\n",
       "\n",
       "       ...,\n",
       "\n",
       "       [[0.14752292, 0.00844702, 0.08705792, ..., 0.1732193 ,\n",
       "         0.18966373, 0.40946471],\n",
       "        [0.38251564, 0.02432877, 0.0901894 , ..., 0.22405008,\n",
       "         0.16790848, 0.34861754]],\n",
       "\n",
       "       [[0.26281304, 0.00899802, 0.10333022, ..., 0.03717479,\n",
       "         0.20207266, 0.21144049],\n",
       "        [0.27891172, 0.02432667, 0.13577123, ..., 0.02513926,\n",
       "         0.2085391 , 0.17050887]],\n",
       "\n",
       "       [[0.17441382, 0.00856069, 0.11543508, ..., 0.05809943,\n",
       "         0.14631398, 0.16446787],\n",
       "        [0.16381154, 0.02413548, 0.1075758 , ..., 0.03469101,\n",
       "         0.10426355, 0.22175547]]])"
      ]
     },
     "execution_count": 18,
     "metadata": {},
     "output_type": "execute_result"
    }
   ],
   "source": [
    "norm_dev"
   ]
  },
  {
   "cell_type": "code",
   "execution_count": null,
   "metadata": {},
   "outputs": [],
   "source": []
  }
 ],
 "metadata": {
  "kernelspec": {
   "display_name": "Python 3",
   "language": "python",
   "name": "python3"
  },
  "language_info": {
   "codemirror_mode": {
    "name": "ipython",
    "version": 3
   },
   "file_extension": ".py",
   "mimetype": "text/x-python",
   "name": "python",
   "nbconvert_exporter": "python",
   "pygments_lexer": "ipython3",
   "version": "3.7.1"
  }
 },
 "nbformat": 4,
 "nbformat_minor": 2
}
